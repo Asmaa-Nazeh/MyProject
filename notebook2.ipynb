{
 "cells": [
  {
   "cell_type": "code",
   "execution_count": 1,
   "id": "c2d2448e",
   "metadata": {
    "_cell_guid": "b1076dfc-b9ad-4769-8c92-a6c4dae69d19",
    "_uuid": "8f2839f25d086af736a60e9eeb907d3b93b6e0e5",
    "execution": {
     "iopub.execute_input": "2024-01-28T20:22:53.887692Z",
     "iopub.status.busy": "2024-01-28T20:22:53.886736Z",
     "iopub.status.idle": "2024-01-28T20:22:54.358212Z",
     "shell.execute_reply": "2024-01-28T20:22:54.356792Z"
    },
    "papermill": {
     "duration": 0.483013,
     "end_time": "2024-01-28T20:22:54.361003",
     "exception": false,
     "start_time": "2024-01-28T20:22:53.877990",
     "status": "completed"
    },
    "tags": []
   },
   "outputs": [
    {
     "name": "stdout",
     "output_type": "stream",
     "text": [
      "/kaggle/input/automobile-dataset/Automobile.csv\n"
     ]
    }
   ],
   "source": [
    "# This Python 3 environment comes with many helpful analytics libraries installed\n",
    "# It is defined by the kaggle/python Docker image: https://github.com/kaggle/docker-python\n",
    "# For example, here's several helpful packages to load\n",
    "\n",
    "import numpy as np # linear algebra\n",
    "import pandas as pd # data processing, CSV file I/O (e.g. pd.read_csv)\n",
    "\n",
    "# Input data files are available in the read-only \"../input/\" directory\n",
    "# For example, running this (by clicking run or pressing Shift+Enter) will list all files under the input directory\n",
    "\n",
    "import os\n",
    "for dirname, _, filenames in os.walk('/kaggle/input'):\n",
    "    for filename in filenames:\n",
    "        print(os.path.join(dirname, filename))\n",
    "\n",
    "# You can write up to 20GB to the current directory (/kaggle/working/) that gets preserved as output when you create a version using \"Save & Run All\" \n",
    "# You can also write temporary files to /kaggle/temp/, but they won't be saved outside of the current session"
   ]
  },
  {
   "cell_type": "code",
   "execution_count": 2,
   "id": "b62419fc",
   "metadata": {
    "execution": {
     "iopub.execute_input": "2024-01-28T20:22:54.376446Z",
     "iopub.status.busy": "2024-01-28T20:22:54.374533Z",
     "iopub.status.idle": "2024-01-28T20:22:55.725993Z",
     "shell.execute_reply": "2024-01-28T20:22:55.724952Z"
    },
    "papermill": {
     "duration": 1.361805,
     "end_time": "2024-01-28T20:22:55.728731",
     "exception": false,
     "start_time": "2024-01-28T20:22:54.366926",
     "status": "completed"
    },
    "tags": []
   },
   "outputs": [],
   "source": [
    "import numpy as np\n",
    "import pandas as pd\n",
    "import matplotlib.pyplot as plt\n",
    "import seaborn as sns \n"
   ]
  },
  {
   "cell_type": "code",
   "execution_count": 3,
   "id": "d9533886",
   "metadata": {
    "execution": {
     "iopub.execute_input": "2024-01-28T20:22:55.742238Z",
     "iopub.status.busy": "2024-01-28T20:22:55.741196Z",
     "iopub.status.idle": "2024-01-28T20:22:55.767274Z",
     "shell.execute_reply": "2024-01-28T20:22:55.765825Z"
    },
    "papermill": {
     "duration": 0.035959,
     "end_time": "2024-01-28T20:22:55.770281",
     "exception": false,
     "start_time": "2024-01-28T20:22:55.734322",
     "status": "completed"
    },
    "tags": []
   },
   "outputs": [],
   "source": [
    "df = pd.read_csv('/kaggle/input/automobile-dataset/Automobile.csv')"
   ]
  },
  {
   "cell_type": "code",
   "execution_count": 4,
   "id": "6109c483",
   "metadata": {
    "execution": {
     "iopub.execute_input": "2024-01-28T20:22:55.784050Z",
     "iopub.status.busy": "2024-01-28T20:22:55.783592Z",
     "iopub.status.idle": "2024-01-28T20:22:55.827060Z",
     "shell.execute_reply": "2024-01-28T20:22:55.825810Z"
    },
    "papermill": {
     "duration": 0.053739,
     "end_time": "2024-01-28T20:22:55.829729",
     "exception": false,
     "start_time": "2024-01-28T20:22:55.775990",
     "status": "completed"
    },
    "tags": []
   },
   "outputs": [
    {
     "data": {
      "text/html": [
       "<div>\n",
       "<style scoped>\n",
       "    .dataframe tbody tr th:only-of-type {\n",
       "        vertical-align: middle;\n",
       "    }\n",
       "\n",
       "    .dataframe tbody tr th {\n",
       "        vertical-align: top;\n",
       "    }\n",
       "\n",
       "    .dataframe thead th {\n",
       "        text-align: right;\n",
       "    }\n",
       "</style>\n",
       "<table border=\"1\" class=\"dataframe\">\n",
       "  <thead>\n",
       "    <tr style=\"text-align: right;\">\n",
       "      <th></th>\n",
       "      <th>name</th>\n",
       "      <th>mpg</th>\n",
       "      <th>cylinders</th>\n",
       "      <th>displacement</th>\n",
       "      <th>horsepower</th>\n",
       "      <th>weight</th>\n",
       "      <th>acceleration</th>\n",
       "      <th>model_year</th>\n",
       "      <th>origin</th>\n",
       "    </tr>\n",
       "  </thead>\n",
       "  <tbody>\n",
       "    <tr>\n",
       "      <th>0</th>\n",
       "      <td>chevrolet chevelle malibu</td>\n",
       "      <td>18.0</td>\n",
       "      <td>8</td>\n",
       "      <td>307.0</td>\n",
       "      <td>130.0</td>\n",
       "      <td>3504</td>\n",
       "      <td>12.0</td>\n",
       "      <td>70</td>\n",
       "      <td>usa</td>\n",
       "    </tr>\n",
       "    <tr>\n",
       "      <th>1</th>\n",
       "      <td>buick skylark 320</td>\n",
       "      <td>15.0</td>\n",
       "      <td>8</td>\n",
       "      <td>350.0</td>\n",
       "      <td>165.0</td>\n",
       "      <td>3693</td>\n",
       "      <td>11.5</td>\n",
       "      <td>70</td>\n",
       "      <td>usa</td>\n",
       "    </tr>\n",
       "    <tr>\n",
       "      <th>2</th>\n",
       "      <td>plymouth satellite</td>\n",
       "      <td>18.0</td>\n",
       "      <td>8</td>\n",
       "      <td>318.0</td>\n",
       "      <td>150.0</td>\n",
       "      <td>3436</td>\n",
       "      <td>11.0</td>\n",
       "      <td>70</td>\n",
       "      <td>usa</td>\n",
       "    </tr>\n",
       "    <tr>\n",
       "      <th>3</th>\n",
       "      <td>amc rebel sst</td>\n",
       "      <td>16.0</td>\n",
       "      <td>8</td>\n",
       "      <td>304.0</td>\n",
       "      <td>150.0</td>\n",
       "      <td>3433</td>\n",
       "      <td>12.0</td>\n",
       "      <td>70</td>\n",
       "      <td>usa</td>\n",
       "    </tr>\n",
       "    <tr>\n",
       "      <th>4</th>\n",
       "      <td>ford torino</td>\n",
       "      <td>17.0</td>\n",
       "      <td>8</td>\n",
       "      <td>302.0</td>\n",
       "      <td>140.0</td>\n",
       "      <td>3449</td>\n",
       "      <td>10.5</td>\n",
       "      <td>70</td>\n",
       "      <td>usa</td>\n",
       "    </tr>\n",
       "    <tr>\n",
       "      <th>...</th>\n",
       "      <td>...</td>\n",
       "      <td>...</td>\n",
       "      <td>...</td>\n",
       "      <td>...</td>\n",
       "      <td>...</td>\n",
       "      <td>...</td>\n",
       "      <td>...</td>\n",
       "      <td>...</td>\n",
       "      <td>...</td>\n",
       "    </tr>\n",
       "    <tr>\n",
       "      <th>393</th>\n",
       "      <td>ford mustang gl</td>\n",
       "      <td>27.0</td>\n",
       "      <td>4</td>\n",
       "      <td>140.0</td>\n",
       "      <td>86.0</td>\n",
       "      <td>2790</td>\n",
       "      <td>15.6</td>\n",
       "      <td>82</td>\n",
       "      <td>usa</td>\n",
       "    </tr>\n",
       "    <tr>\n",
       "      <th>394</th>\n",
       "      <td>vw pickup</td>\n",
       "      <td>44.0</td>\n",
       "      <td>4</td>\n",
       "      <td>97.0</td>\n",
       "      <td>52.0</td>\n",
       "      <td>2130</td>\n",
       "      <td>24.6</td>\n",
       "      <td>82</td>\n",
       "      <td>europe</td>\n",
       "    </tr>\n",
       "    <tr>\n",
       "      <th>395</th>\n",
       "      <td>dodge rampage</td>\n",
       "      <td>32.0</td>\n",
       "      <td>4</td>\n",
       "      <td>135.0</td>\n",
       "      <td>84.0</td>\n",
       "      <td>2295</td>\n",
       "      <td>11.6</td>\n",
       "      <td>82</td>\n",
       "      <td>usa</td>\n",
       "    </tr>\n",
       "    <tr>\n",
       "      <th>396</th>\n",
       "      <td>ford ranger</td>\n",
       "      <td>28.0</td>\n",
       "      <td>4</td>\n",
       "      <td>120.0</td>\n",
       "      <td>79.0</td>\n",
       "      <td>2625</td>\n",
       "      <td>18.6</td>\n",
       "      <td>82</td>\n",
       "      <td>usa</td>\n",
       "    </tr>\n",
       "    <tr>\n",
       "      <th>397</th>\n",
       "      <td>chevy s-10</td>\n",
       "      <td>31.0</td>\n",
       "      <td>4</td>\n",
       "      <td>119.0</td>\n",
       "      <td>82.0</td>\n",
       "      <td>2720</td>\n",
       "      <td>19.4</td>\n",
       "      <td>82</td>\n",
       "      <td>usa</td>\n",
       "    </tr>\n",
       "  </tbody>\n",
       "</table>\n",
       "<p>398 rows × 9 columns</p>\n",
       "</div>"
      ],
      "text/plain": [
       "                          name   mpg  cylinders  displacement  horsepower  \\\n",
       "0    chevrolet chevelle malibu  18.0          8         307.0       130.0   \n",
       "1            buick skylark 320  15.0          8         350.0       165.0   \n",
       "2           plymouth satellite  18.0          8         318.0       150.0   \n",
       "3                amc rebel sst  16.0          8         304.0       150.0   \n",
       "4                  ford torino  17.0          8         302.0       140.0   \n",
       "..                         ...   ...        ...           ...         ...   \n",
       "393            ford mustang gl  27.0          4         140.0        86.0   \n",
       "394                  vw pickup  44.0          4          97.0        52.0   \n",
       "395              dodge rampage  32.0          4         135.0        84.0   \n",
       "396                ford ranger  28.0          4         120.0        79.0   \n",
       "397                 chevy s-10  31.0          4         119.0        82.0   \n",
       "\n",
       "     weight  acceleration  model_year  origin  \n",
       "0      3504          12.0          70     usa  \n",
       "1      3693          11.5          70     usa  \n",
       "2      3436          11.0          70     usa  \n",
       "3      3433          12.0          70     usa  \n",
       "4      3449          10.5          70     usa  \n",
       "..      ...           ...         ...     ...  \n",
       "393    2790          15.6          82     usa  \n",
       "394    2130          24.6          82  europe  \n",
       "395    2295          11.6          82     usa  \n",
       "396    2625          18.6          82     usa  \n",
       "397    2720          19.4          82     usa  \n",
       "\n",
       "[398 rows x 9 columns]"
      ]
     },
     "execution_count": 4,
     "metadata": {},
     "output_type": "execute_result"
    }
   ],
   "source": [
    "df"
   ]
  },
  {
   "cell_type": "code",
   "execution_count": 5,
   "id": "d32afd38",
   "metadata": {
    "execution": {
     "iopub.execute_input": "2024-01-28T20:22:55.843612Z",
     "iopub.status.busy": "2024-01-28T20:22:55.843140Z",
     "iopub.status.idle": "2024-01-28T20:22:55.853980Z",
     "shell.execute_reply": "2024-01-28T20:22:55.852674Z"
    },
    "papermill": {
     "duration": 0.02093,
     "end_time": "2024-01-28T20:22:55.856622",
     "exception": false,
     "start_time": "2024-01-28T20:22:55.835692",
     "status": "completed"
    },
    "tags": []
   },
   "outputs": [
    {
     "data": {
      "text/plain": [
       "name            0\n",
       "mpg             0\n",
       "cylinders       0\n",
       "displacement    0\n",
       "horsepower      6\n",
       "weight          0\n",
       "acceleration    0\n",
       "model_year      0\n",
       "origin          0\n",
       "dtype: int64"
      ]
     },
     "execution_count": 5,
     "metadata": {},
     "output_type": "execute_result"
    }
   ],
   "source": [
    "df.isnull().sum()"
   ]
  },
  {
   "cell_type": "code",
   "execution_count": 6,
   "id": "0eed295d",
   "metadata": {
    "execution": {
     "iopub.execute_input": "2024-01-28T20:22:55.871232Z",
     "iopub.status.busy": "2024-01-28T20:22:55.870232Z",
     "iopub.status.idle": "2024-01-28T20:22:55.876522Z",
     "shell.execute_reply": "2024-01-28T20:22:55.875543Z"
    },
    "papermill": {
     "duration": 0.016218,
     "end_time": "2024-01-28T20:22:55.879073",
     "exception": false,
     "start_time": "2024-01-28T20:22:55.862855",
     "status": "completed"
    },
    "tags": []
   },
   "outputs": [],
   "source": [
    "df['horsepower'].fillna(df['horsepower'].mean() , inplace = True )"
   ]
  },
  {
   "cell_type": "code",
   "execution_count": 7,
   "id": "805d30ef",
   "metadata": {
    "execution": {
     "iopub.execute_input": "2024-01-28T20:22:55.894666Z",
     "iopub.status.busy": "2024-01-28T20:22:55.893787Z",
     "iopub.status.idle": "2024-01-28T20:22:55.903400Z",
     "shell.execute_reply": "2024-01-28T20:22:55.902095Z"
    },
    "papermill": {
     "duration": 0.020335,
     "end_time": "2024-01-28T20:22:55.906019",
     "exception": false,
     "start_time": "2024-01-28T20:22:55.885684",
     "status": "completed"
    },
    "tags": []
   },
   "outputs": [
    {
     "data": {
      "text/plain": [
       "name            0\n",
       "mpg             0\n",
       "cylinders       0\n",
       "displacement    0\n",
       "horsepower      0\n",
       "weight          0\n",
       "acceleration    0\n",
       "model_year      0\n",
       "origin          0\n",
       "dtype: int64"
      ]
     },
     "execution_count": 7,
     "metadata": {},
     "output_type": "execute_result"
    }
   ],
   "source": [
    "df.isnull().sum()  "
   ]
  },
  {
   "cell_type": "code",
   "execution_count": 8,
   "id": "efaff5cc",
   "metadata": {
    "execution": {
     "iopub.execute_input": "2024-01-28T20:22:55.920878Z",
     "iopub.status.busy": "2024-01-28T20:22:55.919753Z",
     "iopub.status.idle": "2024-01-28T20:22:55.929565Z",
     "shell.execute_reply": "2024-01-28T20:22:55.928307Z"
    },
    "papermill": {
     "duration": 0.020287,
     "end_time": "2024-01-28T20:22:55.932469",
     "exception": false,
     "start_time": "2024-01-28T20:22:55.912182",
     "status": "completed"
    },
    "tags": []
   },
   "outputs": [],
   "source": [
    "df = df.rename(columns = {'mpg' : 'pers per gallon ' } )"
   ]
  },
  {
   "cell_type": "code",
   "execution_count": 9,
   "id": "23b1f9a3",
   "metadata": {
    "execution": {
     "iopub.execute_input": "2024-01-28T20:22:55.947517Z",
     "iopub.status.busy": "2024-01-28T20:22:55.946355Z",
     "iopub.status.idle": "2024-01-28T20:22:55.971939Z",
     "shell.execute_reply": "2024-01-28T20:22:55.970718Z"
    },
    "papermill": {
     "duration": 0.03605,
     "end_time": "2024-01-28T20:22:55.974808",
     "exception": false,
     "start_time": "2024-01-28T20:22:55.938758",
     "status": "completed"
    },
    "tags": []
   },
   "outputs": [
    {
     "data": {
      "text/html": [
       "<div>\n",
       "<style scoped>\n",
       "    .dataframe tbody tr th:only-of-type {\n",
       "        vertical-align: middle;\n",
       "    }\n",
       "\n",
       "    .dataframe tbody tr th {\n",
       "        vertical-align: top;\n",
       "    }\n",
       "\n",
       "    .dataframe thead th {\n",
       "        text-align: right;\n",
       "    }\n",
       "</style>\n",
       "<table border=\"1\" class=\"dataframe\">\n",
       "  <thead>\n",
       "    <tr style=\"text-align: right;\">\n",
       "      <th></th>\n",
       "      <th>name</th>\n",
       "      <th>pers per gallon</th>\n",
       "      <th>cylinders</th>\n",
       "      <th>displacement</th>\n",
       "      <th>horsepower</th>\n",
       "      <th>weight</th>\n",
       "      <th>acceleration</th>\n",
       "      <th>model_year</th>\n",
       "      <th>origin</th>\n",
       "    </tr>\n",
       "  </thead>\n",
       "  <tbody>\n",
       "    <tr>\n",
       "      <th>0</th>\n",
       "      <td>chevrolet chevelle malibu</td>\n",
       "      <td>18.0</td>\n",
       "      <td>8</td>\n",
       "      <td>307.0</td>\n",
       "      <td>130.0</td>\n",
       "      <td>3504</td>\n",
       "      <td>12.0</td>\n",
       "      <td>70</td>\n",
       "      <td>usa</td>\n",
       "    </tr>\n",
       "    <tr>\n",
       "      <th>1</th>\n",
       "      <td>buick skylark 320</td>\n",
       "      <td>15.0</td>\n",
       "      <td>8</td>\n",
       "      <td>350.0</td>\n",
       "      <td>165.0</td>\n",
       "      <td>3693</td>\n",
       "      <td>11.5</td>\n",
       "      <td>70</td>\n",
       "      <td>usa</td>\n",
       "    </tr>\n",
       "    <tr>\n",
       "      <th>2</th>\n",
       "      <td>plymouth satellite</td>\n",
       "      <td>18.0</td>\n",
       "      <td>8</td>\n",
       "      <td>318.0</td>\n",
       "      <td>150.0</td>\n",
       "      <td>3436</td>\n",
       "      <td>11.0</td>\n",
       "      <td>70</td>\n",
       "      <td>usa</td>\n",
       "    </tr>\n",
       "    <tr>\n",
       "      <th>3</th>\n",
       "      <td>amc rebel sst</td>\n",
       "      <td>16.0</td>\n",
       "      <td>8</td>\n",
       "      <td>304.0</td>\n",
       "      <td>150.0</td>\n",
       "      <td>3433</td>\n",
       "      <td>12.0</td>\n",
       "      <td>70</td>\n",
       "      <td>usa</td>\n",
       "    </tr>\n",
       "    <tr>\n",
       "      <th>4</th>\n",
       "      <td>ford torino</td>\n",
       "      <td>17.0</td>\n",
       "      <td>8</td>\n",
       "      <td>302.0</td>\n",
       "      <td>140.0</td>\n",
       "      <td>3449</td>\n",
       "      <td>10.5</td>\n",
       "      <td>70</td>\n",
       "      <td>usa</td>\n",
       "    </tr>\n",
       "    <tr>\n",
       "      <th>...</th>\n",
       "      <td>...</td>\n",
       "      <td>...</td>\n",
       "      <td>...</td>\n",
       "      <td>...</td>\n",
       "      <td>...</td>\n",
       "      <td>...</td>\n",
       "      <td>...</td>\n",
       "      <td>...</td>\n",
       "      <td>...</td>\n",
       "    </tr>\n",
       "    <tr>\n",
       "      <th>393</th>\n",
       "      <td>ford mustang gl</td>\n",
       "      <td>27.0</td>\n",
       "      <td>4</td>\n",
       "      <td>140.0</td>\n",
       "      <td>86.0</td>\n",
       "      <td>2790</td>\n",
       "      <td>15.6</td>\n",
       "      <td>82</td>\n",
       "      <td>usa</td>\n",
       "    </tr>\n",
       "    <tr>\n",
       "      <th>394</th>\n",
       "      <td>vw pickup</td>\n",
       "      <td>44.0</td>\n",
       "      <td>4</td>\n",
       "      <td>97.0</td>\n",
       "      <td>52.0</td>\n",
       "      <td>2130</td>\n",
       "      <td>24.6</td>\n",
       "      <td>82</td>\n",
       "      <td>europe</td>\n",
       "    </tr>\n",
       "    <tr>\n",
       "      <th>395</th>\n",
       "      <td>dodge rampage</td>\n",
       "      <td>32.0</td>\n",
       "      <td>4</td>\n",
       "      <td>135.0</td>\n",
       "      <td>84.0</td>\n",
       "      <td>2295</td>\n",
       "      <td>11.6</td>\n",
       "      <td>82</td>\n",
       "      <td>usa</td>\n",
       "    </tr>\n",
       "    <tr>\n",
       "      <th>396</th>\n",
       "      <td>ford ranger</td>\n",
       "      <td>28.0</td>\n",
       "      <td>4</td>\n",
       "      <td>120.0</td>\n",
       "      <td>79.0</td>\n",
       "      <td>2625</td>\n",
       "      <td>18.6</td>\n",
       "      <td>82</td>\n",
       "      <td>usa</td>\n",
       "    </tr>\n",
       "    <tr>\n",
       "      <th>397</th>\n",
       "      <td>chevy s-10</td>\n",
       "      <td>31.0</td>\n",
       "      <td>4</td>\n",
       "      <td>119.0</td>\n",
       "      <td>82.0</td>\n",
       "      <td>2720</td>\n",
       "      <td>19.4</td>\n",
       "      <td>82</td>\n",
       "      <td>usa</td>\n",
       "    </tr>\n",
       "  </tbody>\n",
       "</table>\n",
       "<p>398 rows × 9 columns</p>\n",
       "</div>"
      ],
      "text/plain": [
       "                          name  pers per gallon   cylinders  displacement  \\\n",
       "0    chevrolet chevelle malibu              18.0          8         307.0   \n",
       "1            buick skylark 320              15.0          8         350.0   \n",
       "2           plymouth satellite              18.0          8         318.0   \n",
       "3                amc rebel sst              16.0          8         304.0   \n",
       "4                  ford torino              17.0          8         302.0   \n",
       "..                         ...               ...        ...           ...   \n",
       "393            ford mustang gl              27.0          4         140.0   \n",
       "394                  vw pickup              44.0          4          97.0   \n",
       "395              dodge rampage              32.0          4         135.0   \n",
       "396                ford ranger              28.0          4         120.0   \n",
       "397                 chevy s-10              31.0          4         119.0   \n",
       "\n",
       "     horsepower  weight  acceleration  model_year  origin  \n",
       "0         130.0    3504          12.0          70     usa  \n",
       "1         165.0    3693          11.5          70     usa  \n",
       "2         150.0    3436          11.0          70     usa  \n",
       "3         150.0    3433          12.0          70     usa  \n",
       "4         140.0    3449          10.5          70     usa  \n",
       "..          ...     ...           ...         ...     ...  \n",
       "393        86.0    2790          15.6          82     usa  \n",
       "394        52.0    2130          24.6          82  europe  \n",
       "395        84.0    2295          11.6          82     usa  \n",
       "396        79.0    2625          18.6          82     usa  \n",
       "397        82.0    2720          19.4          82     usa  \n",
       "\n",
       "[398 rows x 9 columns]"
      ]
     },
     "execution_count": 9,
     "metadata": {},
     "output_type": "execute_result"
    }
   ],
   "source": [
    "df"
   ]
  },
  {
   "cell_type": "code",
   "execution_count": 10,
   "id": "910c2420",
   "metadata": {
    "execution": {
     "iopub.execute_input": "2024-01-28T20:22:55.990830Z",
     "iopub.status.busy": "2024-01-28T20:22:55.990364Z",
     "iopub.status.idle": "2024-01-28T20:22:56.000893Z",
     "shell.execute_reply": "2024-01-28T20:22:55.999981Z"
    },
    "papermill": {
     "duration": 0.021344,
     "end_time": "2024-01-28T20:22:56.003520",
     "exception": false,
     "start_time": "2024-01-28T20:22:55.982176",
     "status": "completed"
    },
    "tags": []
   },
   "outputs": [],
   "source": [
    "top_10_name = df['name'].value_counts().reset_index().head(10)\n",
    "\n"
   ]
  },
  {
   "cell_type": "markdown",
   "id": "9fdaab6f",
   "metadata": {
    "papermill": {
     "duration": 0.007039,
     "end_time": "2024-01-28T20:22:56.017302",
     "exception": false,
     "start_time": "2024-01-28T20:22:56.010263",
     "status": "completed"
    },
    "tags": []
   },
   "source": [
    "df.isnull().sum()   بتجيب عدد تكرار الاسم في الداتا سيت بعدين تجبلي التوب تين منهم و بتعمل ريسيت للاندكسات من صفر لتسعه عشان ده مش الاندكس الصلي بتاعهم "
   ]
  },
  {
   "cell_type": "code",
   "execution_count": 11,
   "id": "9352e5d6",
   "metadata": {
    "execution": {
     "iopub.execute_input": "2024-01-28T20:22:56.032334Z",
     "iopub.status.busy": "2024-01-28T20:22:56.031834Z",
     "iopub.status.idle": "2024-01-28T20:22:56.044364Z",
     "shell.execute_reply": "2024-01-28T20:22:56.043183Z"
    },
    "papermill": {
     "duration": 0.023093,
     "end_time": "2024-01-28T20:22:56.046911",
     "exception": false,
     "start_time": "2024-01-28T20:22:56.023818",
     "status": "completed"
    },
    "tags": []
   },
   "outputs": [
    {
     "data": {
      "text/html": [
       "<div>\n",
       "<style scoped>\n",
       "    .dataframe tbody tr th:only-of-type {\n",
       "        vertical-align: middle;\n",
       "    }\n",
       "\n",
       "    .dataframe tbody tr th {\n",
       "        vertical-align: top;\n",
       "    }\n",
       "\n",
       "    .dataframe thead th {\n",
       "        text-align: right;\n",
       "    }\n",
       "</style>\n",
       "<table border=\"1\" class=\"dataframe\">\n",
       "  <thead>\n",
       "    <tr style=\"text-align: right;\">\n",
       "      <th></th>\n",
       "      <th>name</th>\n",
       "      <th>count</th>\n",
       "    </tr>\n",
       "  </thead>\n",
       "  <tbody>\n",
       "    <tr>\n",
       "      <th>0</th>\n",
       "      <td>ford pinto</td>\n",
       "      <td>6</td>\n",
       "    </tr>\n",
       "    <tr>\n",
       "      <th>1</th>\n",
       "      <td>toyota corolla</td>\n",
       "      <td>5</td>\n",
       "    </tr>\n",
       "    <tr>\n",
       "      <th>2</th>\n",
       "      <td>amc matador</td>\n",
       "      <td>5</td>\n",
       "    </tr>\n",
       "    <tr>\n",
       "      <th>3</th>\n",
       "      <td>ford maverick</td>\n",
       "      <td>5</td>\n",
       "    </tr>\n",
       "    <tr>\n",
       "      <th>4</th>\n",
       "      <td>chevrolet chevette</td>\n",
       "      <td>4</td>\n",
       "    </tr>\n",
       "    <tr>\n",
       "      <th>5</th>\n",
       "      <td>amc gremlin</td>\n",
       "      <td>4</td>\n",
       "    </tr>\n",
       "    <tr>\n",
       "      <th>6</th>\n",
       "      <td>chevrolet impala</td>\n",
       "      <td>4</td>\n",
       "    </tr>\n",
       "    <tr>\n",
       "      <th>7</th>\n",
       "      <td>peugeot 504</td>\n",
       "      <td>4</td>\n",
       "    </tr>\n",
       "    <tr>\n",
       "      <th>8</th>\n",
       "      <td>amc hornet</td>\n",
       "      <td>4</td>\n",
       "    </tr>\n",
       "    <tr>\n",
       "      <th>9</th>\n",
       "      <td>toyota corona</td>\n",
       "      <td>4</td>\n",
       "    </tr>\n",
       "  </tbody>\n",
       "</table>\n",
       "</div>"
      ],
      "text/plain": [
       "                 name  count\n",
       "0          ford pinto      6\n",
       "1      toyota corolla      5\n",
       "2         amc matador      5\n",
       "3       ford maverick      5\n",
       "4  chevrolet chevette      4\n",
       "5         amc gremlin      4\n",
       "6    chevrolet impala      4\n",
       "7         peugeot 504      4\n",
       "8          amc hornet      4\n",
       "9       toyota corona      4"
      ]
     },
     "execution_count": 11,
     "metadata": {},
     "output_type": "execute_result"
    }
   ],
   "source": [
    "top_10_name"
   ]
  },
  {
   "cell_type": "code",
   "execution_count": 12,
   "id": "2311678f",
   "metadata": {
    "execution": {
     "iopub.execute_input": "2024-01-28T20:22:56.062360Z",
     "iopub.status.busy": "2024-01-28T20:22:56.061860Z",
     "iopub.status.idle": "2024-01-28T20:22:56.575580Z",
     "shell.execute_reply": "2024-01-28T20:22:56.574325Z"
    },
    "papermill": {
     "duration": 0.524255,
     "end_time": "2024-01-28T20:22:56.577997",
     "exception": false,
     "start_time": "2024-01-28T20:22:56.053742",
     "status": "completed"
    },
    "tags": []
   },
   "outputs": [
    {
     "data": {
      "text/plain": [
       "Text(0.5, 1.0, 'top 10 car name and thier count ')"
      ]
     },
     "execution_count": 12,
     "metadata": {},
     "output_type": "execute_result"
    },
    {
     "data": {
      "image/png": "[encoded data removed]",
      "text/plain": [
       "<Figure size 640x480 with 1 Axes>"
      ]
     },
     "metadata": {},
     "output_type": "display_data"
    }
   ],
   "source": [
    "sns.barplot(data= top_10_name , x ='name' , y='count')\n",
    "plt.xlabel('name')\n",
    "plt.ylabel('Count')\n",
    "plt.xticks(rotation = 90 )\n",
    "plt.title('top 10 car name and thier count ')"
   ]
  },
  {
   "cell_type": "code",
   "execution_count": 13,
   "id": "dec29677",
   "metadata": {
    "execution": {
     "iopub.execute_input": "2024-01-28T20:22:56.595477Z",
     "iopub.status.busy": "2024-01-28T20:22:56.594984Z",
     "iopub.status.idle": "2024-01-28T20:22:56.604602Z",
     "shell.execute_reply": "2024-01-28T20:22:56.603382Z"
    },
    "papermill": {
     "duration": 0.021788,
     "end_time": "2024-01-28T20:22:56.607624",
     "exception": false,
     "start_time": "2024-01-28T20:22:56.585836",
     "status": "completed"
    },
    "tags": []
   },
   "outputs": [],
   "source": [
    "top_10_horsepower=df['horsepower'].value_counts().reset_index().head(10)"
   ]
  },
  {
   "cell_type": "code",
   "execution_count": 14,
   "id": "c005dd8d",
   "metadata": {
    "execution": {
     "iopub.execute_input": "2024-01-28T20:22:56.625702Z",
     "iopub.status.busy": "2024-01-28T20:22:56.624198Z",
     "iopub.status.idle": "2024-01-28T20:22:56.637284Z",
     "shell.execute_reply": "2024-01-28T20:22:56.636048Z"
    },
    "papermill": {
     "duration": 0.024743,
     "end_time": "2024-01-28T20:22:56.639854",
     "exception": false,
     "start_time": "2024-01-28T20:22:56.615111",
     "status": "completed"
    },
    "tags": []
   },
   "outputs": [
    {
     "data": {
      "text/html": [
       "<div>\n",
       "<style scoped>\n",
       "    .dataframe tbody tr th:only-of-type {\n",
       "        vertical-align: middle;\n",
       "    }\n",
       "\n",
       "    .dataframe tbody tr th {\n",
       "        vertical-align: top;\n",
       "    }\n",
       "\n",
       "    .dataframe thead th {\n",
       "        text-align: right;\n",
       "    }\n",
       "</style>\n",
       "<table border=\"1\" class=\"dataframe\">\n",
       "  <thead>\n",
       "    <tr style=\"text-align: right;\">\n",
       "      <th></th>\n",
       "      <th>horsepower</th>\n",
       "      <th>count</th>\n",
       "    </tr>\n",
       "  </thead>\n",
       "  <tbody>\n",
       "    <tr>\n",
       "      <th>0</th>\n",
       "      <td>150.0</td>\n",
       "      <td>22</td>\n",
       "    </tr>\n",
       "    <tr>\n",
       "      <th>1</th>\n",
       "      <td>90.0</td>\n",
       "      <td>20</td>\n",
       "    </tr>\n",
       "    <tr>\n",
       "      <th>2</th>\n",
       "      <td>88.0</td>\n",
       "      <td>19</td>\n",
       "    </tr>\n",
       "    <tr>\n",
       "      <th>3</th>\n",
       "      <td>110.0</td>\n",
       "      <td>18</td>\n",
       "    </tr>\n",
       "    <tr>\n",
       "      <th>4</th>\n",
       "      <td>100.0</td>\n",
       "      <td>17</td>\n",
       "    </tr>\n",
       "    <tr>\n",
       "      <th>5</th>\n",
       "      <td>75.0</td>\n",
       "      <td>14</td>\n",
       "    </tr>\n",
       "    <tr>\n",
       "      <th>6</th>\n",
       "      <td>95.0</td>\n",
       "      <td>14</td>\n",
       "    </tr>\n",
       "    <tr>\n",
       "      <th>7</th>\n",
       "      <td>105.0</td>\n",
       "      <td>12</td>\n",
       "    </tr>\n",
       "    <tr>\n",
       "      <th>8</th>\n",
       "      <td>70.0</td>\n",
       "      <td>12</td>\n",
       "    </tr>\n",
       "    <tr>\n",
       "      <th>9</th>\n",
       "      <td>67.0</td>\n",
       "      <td>12</td>\n",
       "    </tr>\n",
       "  </tbody>\n",
       "</table>\n",
       "</div>"
      ],
      "text/plain": [
       "   horsepower  count\n",
       "0       150.0     22\n",
       "1        90.0     20\n",
       "2        88.0     19\n",
       "3       110.0     18\n",
       "4       100.0     17\n",
       "5        75.0     14\n",
       "6        95.0     14\n",
       "7       105.0     12\n",
       "8        70.0     12\n",
       "9        67.0     12"
      ]
     },
     "execution_count": 14,
     "metadata": {},
     "output_type": "execute_result"
    }
   ],
   "source": [
    "top_10_horsepower"
   ]
  },
  {
   "cell_type": "code",
   "execution_count": 15,
   "id": "1e2b7a84",
   "metadata": {
    "execution": {
     "iopub.execute_input": "2024-01-28T20:22:56.657100Z",
     "iopub.status.busy": "2024-01-28T20:22:56.656685Z",
     "iopub.status.idle": "2024-01-28T20:22:57.001046Z",
     "shell.execute_reply": "2024-01-28T20:22:56.999802Z"
    },
    "papermill": {
     "duration": 0.356369,
     "end_time": "2024-01-28T20:22:57.003892",
     "exception": false,
     "start_time": "2024-01-28T20:22:56.647523",
     "status": "completed"
    },
    "tags": []
   },
   "outputs": [
    {
     "data": {
      "text/plain": [
       "Text(0.5, 1.0, 'top 10 car horsepower and thier count ')"
      ]
     },
     "execution_count": 15,
     "metadata": {},
     "output_type": "execute_result"
    },
    {
     "data": {
      "image/png": "[encoded data removed]",
      "text/plain": [
       "<Figure size 640x480 with 1 Axes>"
      ]
     },
     "metadata": {},
     "output_type": "display_data"
    }
   ],
   "source": [
    "sns.barplot(data= top_10_horsepower , x ='horsepower' , y='count')\n",
    "plt.xlabel('horsepower')\n",
    "plt.ylabel('Count')\n",
    "plt.xticks(rotation = 90 )\n",
    "plt.title('top 10 car horsepower and thier count ')"
   ]
  },
  {
   "cell_type": "code",
   "execution_count": 16,
   "id": "94aefcaa",
   "metadata": {
    "execution": {
     "iopub.execute_input": "2024-01-28T20:22:57.023372Z",
     "iopub.status.busy": "2024-01-28T20:22:57.022873Z",
     "iopub.status.idle": "2024-01-28T20:22:57.764962Z",
     "shell.execute_reply": "2024-01-28T20:22:57.763854Z"
    },
    "papermill": {
     "duration": 0.755459,
     "end_time": "2024-01-28T20:22:57.767648",
     "exception": false,
     "start_time": "2024-01-28T20:22:57.012189",
     "status": "completed"
    },
    "tags": []
   },
   "outputs": [
    {
     "data": {
      "text/plain": [
       "<seaborn.axisgrid.FacetGrid at 0x7cd5d731e1a0>"
      ]
     },
     "execution_count": 16,
     "metadata": {},
     "output_type": "execute_result"
    },
    {
     "data": {
      "image/png": "[encoded data removed]",
      "text/plain": [
       "<Figure size 598.625x500 with 1 Axes>"
      ]
     },
     "metadata": {},
     "output_type": "display_data"
    }
   ],
   "source": [
    "sns.relplot(data = df , x = 'weight' , y = 'horsepower' , hue = 'origin' )"
   ]
  },
  {
   "cell_type": "code",
   "execution_count": 17,
   "id": "c1fe35af",
   "metadata": {
    "execution": {
     "iopub.execute_input": "2024-01-28T20:22:57.789981Z",
     "iopub.status.busy": "2024-01-28T20:22:57.789082Z",
     "iopub.status.idle": "2024-01-28T20:22:57.796058Z",
     "shell.execute_reply": "2024-01-28T20:22:57.794914Z"
    },
    "papermill": {
     "duration": 0.021355,
     "end_time": "2024-01-28T20:22:57.799009",
     "exception": false,
     "start_time": "2024-01-28T20:22:57.777654",
     "status": "completed"
    },
    "tags": []
   },
   "outputs": [],
   "source": [
    "A = df.origin.value_counts()"
   ]
  },
  {
   "cell_type": "code",
   "execution_count": 18,
   "id": "d4cd70a8",
   "metadata": {
    "execution": {
     "iopub.execute_input": "2024-01-28T20:22:57.820551Z",
     "iopub.status.busy": "2024-01-28T20:22:57.819795Z",
     "iopub.status.idle": "2024-01-28T20:22:57.828212Z",
     "shell.execute_reply": "2024-01-28T20:22:57.827189Z"
    },
    "papermill": {
     "duration": 0.022006,
     "end_time": "2024-01-28T20:22:57.830753",
     "exception": false,
     "start_time": "2024-01-28T20:22:57.808747",
     "status": "completed"
    },
    "tags": []
   },
   "outputs": [
    {
     "data": {
      "text/plain": [
       "origin\n",
       "usa       249\n",
       "japan      79\n",
       "europe     70\n",
       "Name: count, dtype: int64"
      ]
     },
     "execution_count": 18,
     "metadata": {},
     "output_type": "execute_result"
    }
   ],
   "source": [
    "A"
   ]
  },
  {
   "cell_type": "code",
   "execution_count": 19,
   "id": "ac08b18b",
   "metadata": {
    "execution": {
     "iopub.execute_input": "2024-01-28T20:22:57.854215Z",
     "iopub.status.busy": "2024-01-28T20:22:57.852983Z",
     "iopub.status.idle": "2024-01-28T20:22:58.054077Z",
     "shell.execute_reply": "2024-01-28T20:22:58.052750Z"
    },
    "papermill": {
     "duration": 0.217006,
     "end_time": "2024-01-28T20:22:58.057885",
     "exception": false,
     "start_time": "2024-01-28T20:22:57.840879",
     "status": "completed"
    },
    "tags": []
   },
   "outputs": [
    {
     "data": {
      "text/plain": [
       "<Axes: ylabel='count'>"
      ]
     },
     "execution_count": 19,
     "metadata": {},
     "output_type": "execute_result"
    },
    {
     "data": {
      "image/png": "[encoded data removed]",
      "text/plain": [
       "<Figure size 640x480 with 1 Axes>"
      ]
     },
     "metadata": {},
     "output_type": "display_data"
    }
   ],
   "source": [
    "A.plot(kind = 'pie' , autopct = \"%0.1f%%\" , explode=[0 ,0.1 , 0.2 ] , shadow=True )"
   ]
  }
 ],
 "metadata": {
  "kaggle": {
   "accelerator": "none",
   "dataSources": [
    {
     "datasetId": 3331115,
     "sourceId": 5799875,
     "sourceType": "datasetVersion"
    }
   ],
   "dockerImageVersionId": 30635,
   "isGpuEnabled": false,
   "isInternetEnabled": false,
   "language": "python",
   "sourceType": "notebook"
  },
  "kernelspec": {
   "display_name": "Python 3",
   "language": "python",
   "name": "python3"
  },
  "language_info": {
   "codemirror_mode": {
    "name": "ipython",
    "version": 3
   },
   "file_extension": ".py",
   "mimetype": "text/x-python",
   "name": "python",
   "nbconvert_exporter": "python",
   "pygments_lexer": "ipython3",
   "version": "3.10.12"
  },
  "papermill": {
   "default_parameters": {},
   "duration": 8.491428,
   "end_time": "2024-01-28T20:22:59.005680",
   "environment_variables": {},
   "exception": null,
   "input_path": "__notebook__.ipynb",
   "output_path": "__notebook__.ipynb",
   "parameters": {},
   "start_time": "2024-01-28T20:22:50.514252",
   "version": "2.4.0"
  }
 },
 "nbformat": 4,
 "nbformat_minor": 5
}
